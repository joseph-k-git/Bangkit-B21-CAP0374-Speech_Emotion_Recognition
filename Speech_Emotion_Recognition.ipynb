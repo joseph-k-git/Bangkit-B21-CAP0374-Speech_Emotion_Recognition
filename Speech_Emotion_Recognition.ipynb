{
  "nbformat": 4,
  "nbformat_minor": 0,
  "metadata": {
    "colab": {
      "name": "Speech Emotion Recognition.ipynb",
      "provenance": [],
      "collapsed_sections": []
    },
    "kernelspec": {
      "name": "python3",
      "display_name": "Python 3"
    },
    "language_info": {
      "name": "python"
    }
  },
  "cells": [
    {
      "cell_type": "markdown",
      "metadata": {
        "id": "8aoXCOiwC6G2"
      },
      "source": [
        "Each of the 7356 RAVDESS files has a unique filename. The filename consists of a 7-part numerical identifier (e.g., 02-01-06-01-02-01-12.mp4). These identifiers define the stimulus characteristics: \n",
        "\n",
        "Filename identifiers \n",
        "\n",
        "1. Modality (01 = full-AV, 02 = video-only, 03 = audio-only).\n",
        "2. Vocal channel (01 = speech, 02 = song).\n",
        "3. Emotion (01 = neutral, 02 = calm, 03 = happy, 04 = sad, 05 = angry, 06 = fearful, 07 = disgust, 08 = surprised).\n",
        "4. Emotional intensity (01 = normal, 02 = strong). NOTE: There is no strong intensity for the 'neutral' emotion.\n",
        "5. Statement (01 = \"Kids are talking by the door\", 02 = \"Dogs are sitting by the door\").\n",
        "6. Repetition (01 = 1st repetition, 02 = 2nd repetition).\n",
        "7. Actor (01 to 24. Odd numbered actors are male, even numbered actors are female)."
      ]
    },
    {
      "cell_type": "code",
      "metadata": {
        "colab": {
          "base_uri": "https://localhost:8080/"
        },
        "id": "H78JndKmCKsa",
        "outputId": "65613d0c-46bb-4bf2-89d1-15a74367242e"
      },
      "source": [
        "emotion_dict = {'01' : 'neutral', \n",
        "                  '02' : 'calm', \n",
        "                  '03' : 'happy', \n",
        "                  '04' : 'sad', \n",
        "                  '05' : 'angry', \n",
        "                  '06' : 'fearful', \n",
        "                  '07' : 'disgust', \n",
        "                  '08' : 'surprised', \n",
        "                 }\n",
        "                 \n",
        "def get_label(filename):\n",
        "  codes = filename.split('-')\n",
        "  emotion_code = codes[2]\n",
        "  emotion_label = emotion_dict[emotion_code]\n",
        "  return emotion_label\n",
        "\n",
        "print( get_label(\"03-02-03-02-02-02-02.wav\") )\n",
        "print( get_label(\"03-02-05-02-02-02-02.wav\") )"
      ],
      "execution_count": 1,
      "outputs": [
        {
          "output_type": "stream",
          "text": [
            "happy\n",
            "angry\n"
          ],
          "name": "stdout"
        }
      ]
    },
    {
      "cell_type": "code",
      "metadata": {
        "id": "uPaQeqC_FH3Z"
      },
      "source": [
        "import json\n",
        "import os\n",
        "import math\n",
        "import librosa\n",
        "\n",
        "data_path = \"/content/drive/MyDrive/Colab Notebooks/Zenodo_1188976\"\n",
        "json_path = \"/content/drive/MyDrive/Colab Notebooks/SpeechEmotionMFCC.json\"\n",
        "\n",
        "SAMPLE_RATE = 22050 #bit per second\n",
        "\n",
        "def save_mfcc(data_path, json_path, num_coef=13, size_ftt=2048, size_hop=512):\n",
        "  data = {\n",
        "          \"labels\": [],\n",
        "          \"mfcc\": []\n",
        "         }\n",
        "  \n",
        "  for i, (dirpath, dirnames, filenames) in enumerate(os.walk(data_path)):\n",
        "    if dirpath is not data_path:\n",
        "      for filename in filenames:\n",
        "        file_path = os.path.join(dirpath, filename)\n",
        "        soundwave, sampleRate = librosa.load(file_path, sr=SAMPLE_RATE)\n",
        "\n",
        "        label = get_label(filename)\n",
        "\n",
        "        mfcc = librosa.feature.mfcc(soundwave, sr=sampleRate, n_fft=size_ftt, n_mfcc=num_coef, hop_length=size_hop)\n",
        "        mfcc = mfcc.T\n",
        "\n",
        "        data[\"labels\"].append(label)\n",
        "        data[\"mfcc\"].append(mfcc.tolist())\n",
        "  \n",
        "  with open(json_path, \"w\") as fp:\n",
        "    json.dump(data, fp, indent=4)\n",
        "\n",
        "#save_mfcc(data_path, json_path) #It takes about 15 minutes"
      ],
      "execution_count": 2,
      "outputs": []
    },
    {
      "cell_type": "code",
      "metadata": {
        "colab": {
          "base_uri": "https://localhost:8080/"
        },
        "id": "7na7vfTOTuye",
        "outputId": "676e6859-4ad5-49bc-d7bb-534ea1a4392d"
      },
      "source": [
        "import numpy as np\n",
        "\n",
        "label_dict = {'neutral' : 0, \n",
        "              'calm' : 1, \n",
        "              'happy' : 2, \n",
        "              'sad' : 3, \n",
        "              'angry' : 4, \n",
        "              'fearful' : 5, \n",
        "              'disgust' : 6, \n",
        "              'surprised' : 7, \n",
        "              }\n",
        "\n",
        "def load_data(json_path):\n",
        "\n",
        "    with open(json_path, \"r\") as fp:\n",
        "        data = json.load(fp)\n",
        "\n",
        "    # convert lists to numpy arrays\n",
        "    mfccs = np.array(data[\"mfcc\"])\n",
        "    labels = np.asarray(data[\"labels\"])\n",
        "\n",
        "    print(\"Data succesfully loaded!\")\n",
        "\n",
        "    x = np.zeros((mfccs.shape[0], 150, 13))\n",
        "    y = np.zeros(labels.shape[0])\n",
        "    for i in range(len(mfccs)):\n",
        "      mfcc = np.array(mfccs[i])\n",
        "      label = labels[i]\n",
        "      x[i] = np.resize(mfcc, (150,13))\n",
        "      y[i] = label_dict[label]\n",
        "\n",
        "    return x, y\n",
        "\n",
        "x, y = load_data(json_path)\n",
        "print(x.shape)\n",
        "print(y)"
      ],
      "execution_count": 3,
      "outputs": [
        {
          "output_type": "stream",
          "text": [
            "/usr/local/lib/python3.7/dist-packages/ipykernel_launcher.py:19: VisibleDeprecationWarning: Creating an ndarray from ragged nested sequences (which is a list-or-tuple of lists-or-tuples-or ndarrays with different lengths or shapes) is deprecated. If you meant to do this, you must specify 'dtype=object' when creating the ndarray\n"
          ],
          "name": "stderr"
        },
        {
          "output_type": "stream",
          "text": [
            "Data succesfully loaded!\n",
            "(1440, 150, 13)\n",
            "[3. 0. 1. ... 6. 7. 7.]\n"
          ],
          "name": "stdout"
        }
      ]
    },
    {
      "cell_type": "code",
      "metadata": {
        "colab": {
          "base_uri": "https://localhost:8080/"
        },
        "id": "Ye3Ja_O6WYk6",
        "outputId": "a5f64a02-d677-4ad8-8f74-68caecd6bf50"
      },
      "source": [
        "from sklearn.model_selection import train_test_split\n",
        "import tensorflow.keras as keras\n",
        "\n",
        "x_train, x_test, y_train, y_test = train_test_split(x, y, test_size=0.3)\n",
        "\n",
        "# Model \n",
        "model = keras.Sequential()\n",
        "\n",
        "model.add(keras.layers.LSTM(128, input_shape=(x.shape[1], x.shape[2]), return_sequences=True))\n",
        "model.add(keras.layers.LSTM(128))\n",
        "\n",
        "model.add(keras.layers.Dense(512, activation='relu'))\n",
        "model.add(keras.layers.Dropout(0.3))\n",
        "model.add(keras.layers.Dense(128, activation='relu'))\n",
        "model.add(keras.layers.Dropout(0.2))\n",
        "model.add(keras.layers.Dense(32, activation='relu'))\n",
        "model.add(keras.layers.Dropout(0.1))\n",
        "\n",
        "model.add(keras.layers.Dense(8, activation='softmax'))\n",
        "\n",
        "# compile model\n",
        "optimiser = keras.optimizers.Adam(learning_rate=0.0001)\n",
        "model.compile(optimizer=optimiser,\n",
        "              loss='sparse_categorical_crossentropy',\n",
        "              metrics=['accuracy'])\n",
        "\n",
        "model.summary()\n",
        "\n",
        "# train model\n",
        "history = model.fit(x_train, y_train, validation_data=(x_test, y_test), batch_size=32, epochs=25)"
      ],
      "execution_count": 10,
      "outputs": [
        {
          "output_type": "stream",
          "text": [
            "Model: \"sequential_3\"\n",
            "_________________________________________________________________\n",
            "Layer (type)                 Output Shape              Param #   \n",
            "=================================================================\n",
            "lstm_6 (LSTM)                (None, 150, 128)          72704     \n",
            "_________________________________________________________________\n",
            "lstm_7 (LSTM)                (None, 128)               131584    \n",
            "_________________________________________________________________\n",
            "dense_12 (Dense)             (None, 512)               66048     \n",
            "_________________________________________________________________\n",
            "dropout_7 (Dropout)          (None, 512)               0         \n",
            "_________________________________________________________________\n",
            "dense_13 (Dense)             (None, 128)               65664     \n",
            "_________________________________________________________________\n",
            "dropout_8 (Dropout)          (None, 128)               0         \n",
            "_________________________________________________________________\n",
            "dense_14 (Dense)             (None, 32)                4128      \n",
            "_________________________________________________________________\n",
            "dropout_9 (Dropout)          (None, 32)                0         \n",
            "_________________________________________________________________\n",
            "dense_15 (Dense)             (None, 8)                 264       \n",
            "=================================================================\n",
            "Total params: 340,392\n",
            "Trainable params: 340,392\n",
            "Non-trainable params: 0\n",
            "_________________________________________________________________\n",
            "Epoch 1/25\n",
            "32/32 [==============================] - 17s 411ms/step - loss: 2.0800 - accuracy: 0.1359 - val_loss: 2.0576 - val_accuracy: 0.1528\n",
            "Epoch 2/25\n",
            "32/32 [==============================] - 12s 382ms/step - loss: 2.0554 - accuracy: 0.1756 - val_loss: 2.0355 - val_accuracy: 0.1782\n",
            "Epoch 3/25\n",
            "32/32 [==============================] - 12s 384ms/step - loss: 2.0326 - accuracy: 0.1835 - val_loss: 1.9919 - val_accuracy: 0.2407\n",
            "Epoch 4/25\n",
            "32/32 [==============================] - 12s 388ms/step - loss: 1.9793 - accuracy: 0.2282 - val_loss: 1.9291 - val_accuracy: 0.2361\n",
            "Epoch 5/25\n",
            "32/32 [==============================] - 13s 398ms/step - loss: 1.9128 - accuracy: 0.2490 - val_loss: 1.8705 - val_accuracy: 0.2569\n",
            "Epoch 6/25\n",
            "32/32 [==============================] - 12s 383ms/step - loss: 1.8375 - accuracy: 0.2837 - val_loss: 1.8175 - val_accuracy: 0.2940\n",
            "Epoch 7/25\n",
            "32/32 [==============================] - 12s 385ms/step - loss: 1.7759 - accuracy: 0.3185 - val_loss: 1.7867 - val_accuracy: 0.3310\n",
            "Epoch 8/25\n",
            "32/32 [==============================] - 12s 386ms/step - loss: 1.7675 - accuracy: 0.3185 - val_loss: 1.7693 - val_accuracy: 0.3171\n",
            "Epoch 9/25\n",
            "32/32 [==============================] - 12s 384ms/step - loss: 1.7124 - accuracy: 0.3413 - val_loss: 1.7295 - val_accuracy: 0.3403\n",
            "Epoch 10/25\n",
            "32/32 [==============================] - 12s 388ms/step - loss: 1.6683 - accuracy: 0.3393 - val_loss: 1.7054 - val_accuracy: 0.3356\n",
            "Epoch 11/25\n",
            "32/32 [==============================] - 13s 398ms/step - loss: 1.6469 - accuracy: 0.3413 - val_loss: 1.6838 - val_accuracy: 0.3472\n",
            "Epoch 12/25\n",
            "32/32 [==============================] - 13s 392ms/step - loss: 1.5983 - accuracy: 0.3740 - val_loss: 1.6815 - val_accuracy: 0.3403\n",
            "Epoch 13/25\n",
            "32/32 [==============================] - 13s 399ms/step - loss: 1.6042 - accuracy: 0.3819 - val_loss: 1.6391 - val_accuracy: 0.3935\n",
            "Epoch 14/25\n",
            "32/32 [==============================] - 12s 384ms/step - loss: 1.5521 - accuracy: 0.3919 - val_loss: 1.6463 - val_accuracy: 0.3843\n",
            "Epoch 15/25\n",
            "32/32 [==============================] - 12s 383ms/step - loss: 1.5272 - accuracy: 0.4048 - val_loss: 1.6499 - val_accuracy: 0.3472\n",
            "Epoch 16/25\n",
            "32/32 [==============================] - 12s 389ms/step - loss: 1.4743 - accuracy: 0.4236 - val_loss: 1.6213 - val_accuracy: 0.3889\n",
            "Epoch 17/25\n",
            "32/32 [==============================] - 12s 388ms/step - loss: 1.4171 - accuracy: 0.4474 - val_loss: 1.6789 - val_accuracy: 0.3935\n",
            "Epoch 18/25\n",
            "32/32 [==============================] - 12s 382ms/step - loss: 1.4229 - accuracy: 0.4623 - val_loss: 1.5824 - val_accuracy: 0.4167\n",
            "Epoch 19/25\n",
            "32/32 [==============================] - 12s 385ms/step - loss: 1.3706 - accuracy: 0.4782 - val_loss: 1.5596 - val_accuracy: 0.4028\n",
            "Epoch 20/25\n",
            "32/32 [==============================] - 12s 381ms/step - loss: 1.3275 - accuracy: 0.4931 - val_loss: 1.5135 - val_accuracy: 0.4190\n",
            "Epoch 21/25\n",
            "32/32 [==============================] - 12s 388ms/step - loss: 1.3307 - accuracy: 0.4851 - val_loss: 1.5326 - val_accuracy: 0.4167\n",
            "Epoch 22/25\n",
            "32/32 [==============================] - 12s 391ms/step - loss: 1.2963 - accuracy: 0.4931 - val_loss: 1.4880 - val_accuracy: 0.4375\n",
            "Epoch 23/25\n",
            "32/32 [==============================] - 12s 380ms/step - loss: 1.2224 - accuracy: 0.5337 - val_loss: 1.4735 - val_accuracy: 0.4468\n",
            "Epoch 24/25\n",
            "32/32 [==============================] - 12s 384ms/step - loss: 1.2413 - accuracy: 0.5248 - val_loss: 1.4920 - val_accuracy: 0.4444\n",
            "Epoch 25/25\n",
            "32/32 [==============================] - 12s 381ms/step - loss: 1.2071 - accuracy: 0.5556 - val_loss: 1.5270 - val_accuracy: 0.4421\n"
          ],
          "name": "stdout"
        }
      ]
    },
    {
      "cell_type": "code",
      "metadata": {
        "colab": {
          "base_uri": "https://localhost:8080/",
          "height": 295
        },
        "id": "iS47yEUvh6xn",
        "outputId": "8a6a3d3a-c15b-4d5e-f55d-da324ac9767d"
      },
      "source": [
        "import matplotlib.pyplot as plt\n",
        "\n",
        "fig, axs = plt.subplots(2)\n",
        "\n",
        "axs[0].plot(history.history[\"accuracy\"], label=\"train accuracy\")\n",
        "axs[0].plot(history.history[\"val_accuracy\"], label=\"test accuracy\")\n",
        "axs[0].set_ylabel(\"Accuracy\")\n",
        "axs[1].set_xlabel(\"Epoch\")\n",
        "axs[0].legend(loc=\"lower right\")\n",
        "axs[0].set_title(\"Accuracy eval\")\n",
        "\n",
        "axs[1].plot(history.history[\"loss\"], label=\"train error\")\n",
        "axs[1].plot(history.history[\"val_loss\"], label=\"test error\")\n",
        "axs[1].set_ylabel(\"Error\")\n",
        "axs[1].set_xlabel(\"Epoch\")\n",
        "axs[1].legend(loc=\"upper right\")\n",
        "axs[1].set_title(\"Error eval\")\n",
        "\n",
        "plt.show()"
      ],
      "execution_count": 11,
      "outputs": [
        {
          "output_type": "display_data",
          "data": {
            "image/png": "[encoded data removed]",
            "text/plain": [
              "<Figure size 432x288 with 2 Axes>"
            ]
          },
          "metadata": {
            "tags": [],
            "needs_background": "light"
          }
        }
      ]
    },
    {
      "cell_type": "code",
      "metadata": {
        "colab": {
          "base_uri": "https://localhost:8080/"
        },
        "id": "6NuomChmmgPr",
        "outputId": "23a1ceb6-1414-475c-b7a2-fbb80db1e5ed"
      },
      "source": [
        "import tensorflow as tf\n",
        "\n",
        "predictions = model.predict(x_test)\n",
        "print(predictions[0])"
      ],
      "execution_count": 6,
      "outputs": [
        {
          "output_type": "stream",
          "text": [
            "[0.03873065 0.03306264 0.02731846 0.03210729 0.52891105 0.12719695\n",
            " 0.15703267 0.05564025]\n"
          ],
          "name": "stdout"
        }
      ]
    }
  ]
}